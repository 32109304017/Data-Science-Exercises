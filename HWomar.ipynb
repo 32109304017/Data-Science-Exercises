{
 "cells": [
  {
   "cell_type": "markdown",
   "id": "ad7d9936",
   "metadata": {},
   "source": [
    "# My Jupyter Notebook on IBM Watson Studio\n"
   ]
  },
  {
   "cell_type": "markdown",
   "id": "fb7607ae",
   "metadata": {},
   "source": [
    "This notebook is created for the Data Science course exercises.\n"
   ]
  },
  {
   "cell_type": "markdown",
   "id": "70a40896",
   "metadata": {},
   "source": [
    "The following are some of the popular languages used in Data Science:\n",
    "\n",
    "1. Python  \n",
    "2. R  \n",
    "3. SQL\n"
   ]
  },
  {
   "cell_type": "markdown",
   "id": "666a927f",
   "metadata": {},
   "source": [
    "The following are some of the popular libraries used in Data Science:\n",
    "\n",
    "1. Pandas  \n",
    "2. NumPy  \n",
    "3. Matplotlib\n"
   ]
  },
  {
   "cell_type": "markdown",
   "id": "5bb4073d",
   "metadata": {},
   "source": [
    "The following table shows some of the popular Data Science tools:\n",
    "\n",
    "| Tool        | Category           |\n",
    "|-------------|--------------------|\n",
    "| Jupyter     | Notebook           |\n",
    "| RStudio     | IDE                |\n",
    "| Apache Spark| Big Data Framework |\n"
   ]
  },
  {
   "cell_type": "markdown",
   "id": "a532ee71",
   "metadata": {},
   "source": [
    "Here are some examples of arithmetic expressions in Python:\n",
    "\n",
    "1. Addition: 5 + 3\n",
    "2. Subtraction: 10 - 4\n",
    "3. Multiplication: 6 * 7\n",
    "4. Division: 20 / 5\n"
   ]
  },
  {
   "cell_type": "code",
   "execution_count": 5,
   "id": "8835cab2",
   "metadata": {},
   "outputs": [
    {
     "name": "stdout",
     "output_type": "stream",
     "text": [
      "Sum: 8\n",
      "Multiplication: 6\n"
     ]
    }
   ],
   "source": [
    "# Example of multiplying and adding numbers\n",
    "a = 5\n",
    "b = 3\n",
    "c = 2\n",
    "\n",
    "# Addition\n",
    "sum_result = a + b\n",
    "print(\"Sum:\", sum_result)\n",
    "\n",
    "# Multiplication\n",
    "multiply_result = b * c\n",
    "print(\"Multiplication:\", multiply_result)\n"
   ]
  },
  {
   "cell_type": "code",
   "execution_count": 6,
   "id": "cc3b531c",
   "metadata": {},
   "outputs": [
    {
     "name": "stdout",
     "output_type": "stream",
     "text": [
      "120 minutes is equal to 2.0 hours\n"
     ]
    }
   ],
   "source": [
    "# Convert minutes to hours\n",
    "minutes = 120  # مثال: 120 دقيقة\n",
    "hours = minutes / 60\n",
    "print(minutes, \"minutes is equal to\", hours, \"hours\")\n"
   ]
  },
  {
   "cell_type": "markdown",
   "id": "cb9f42aa",
   "metadata": {},
   "source": [
    "Here are the main objectives of this exercise:\n",
    "\n",
    "- Understand basic arithmetic operations in Python\n",
    "- Learn how to write and run code cells\n",
    "- Practice using Markdown for documentation\n",
    "- Take screenshots of your work for submission\n"
   ]
  },
  {
   "cell_type": "markdown",
   "id": "ca27c062",
   "metadata": {},
   "source": [
    "# Author Details\n",
    "\n",
    "**Name:** Omar Hamad\n"
   ]
  },
  {
   "cell_type": "code",
   "execution_count": null,
   "id": "661f41c4",
   "metadata": {},
   "outputs": [],
   "source": []
  }
 ],
 "metadata": {
  "kernelspec": {
   "display_name": "Python 3 (ipykernel)",
   "language": "python",
   "name": "python3"
  },
  "language_info": {
   "codemirror_mode": {
    "name": "ipython",
    "version": 3
   },
   "file_extension": ".py",
   "mimetype": "text/x-python",
   "name": "python",
   "nbconvert_exporter": "python",
   "pygments_lexer": "ipython3",
   "version": "3.9.13"
  }
 },
 "nbformat": 4,
 "nbformat_minor": 5
}
